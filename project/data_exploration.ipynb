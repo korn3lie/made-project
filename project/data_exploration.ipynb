{
 "cells": [
  {
   "cell_type": "markdown",
   "metadata": {},
   "source": [
    "## Datasources\n",
    "\n",
    "<!-- Describe each datasources you plan to use in a section. Use the prefic \"DatasourceX\" where X is the id of the datasource. -->\n",
    "\n",
    "### Datasource1: Electric Vehicle Population Size History By County\n",
    "* Metadata URL: https://data.wa.gov/Transportation/Electric-Vehicle-Population-Size-History-By-County/3d5d-sdqb/about_data\n",
    "* Data URL: https://data.wa.gov/resource/3d5d-sdqb.csv?$limit=50000\n",
    "* Data Type: CSV\n",
    "* License: [Open Data Commons Open Database License](https://opendatacommons.org/licenses/odbl/1-0/)\n",
    "\n",
    "Washington State Open Data Portal. Free public data published by Washington state agencies and partners.\n",
    "\n",
    "### Datasource3: Motor Fuel - Gasoline Volumes Distributed\n",
    "* Metadata URL: https://data.transportation.gov/Roadways-and-Bridges/Motor-Fuel-Gasoline-Volumes-Distributed/5qxh-t94v/about_data\n",
    "* Data URL: https://data.transportation.gov/resource/5qxh-t94v.csv?$limit=50000\n",
    "* Data Type: CSV\n",
    "* License: [Public Domain](https://opendatacommons.org/licenses/pddl/)\n",
    "\n",
    "Data.Transportation.gov, the U.S. Department of Transportation's public data portal.\n",
    "\n",
    "### Datasource4: Special Fuel Volumes Distributed\n",
    "* Metadata URL: https://data.transportation.gov/Roadways-and-Bridges/Special-Fuel-Volumes-Distributed/5n49-mh85/about_data\n",
    "* Data URL: https://data.transportation.gov/resource/5n49-mh85.csv?$limit=50000\n",
    "* Data Type: CSV\n",
    "* License: [Public Domain](https://opendatacommons.org/licenses/pddl/)\n",
    "\n",
    "Data.Transportation.gov, the U.S. Department of Transportation's public data portal."
   ]
  },
  {
   "cell_type": "code",
   "execution_count": null,
   "metadata": {},
   "outputs": [],
   "source": [
    "import os\n",
    "import pandas as pd\n",
    "\n",
    "data_dir = '../data'\n",
    "\n",
    "data_links = ['https://data.wa.gov/resource/3d5d-sdqb.csv?$limit=50000',\n",
    "              'https://data.transportation.gov/resource/5qxh-t94v.csv?$limit=50000',\n",
    "              'https://data.transportation.gov/resource/5n49-mh85.csv?$limit=50000']\n",
    "\n",
    "file_names = ['electric_car_population.csv', \n",
    "              'motor_fuel_distribution.csv', \n",
    "              'special_fuel_distribution.csv']\n",
    "# read\n",
    "df0 = pd.read_csv(data_links[0])\n",
    "df1 = pd.read_csv(data_links[1])\n",
    "df2 = pd.read_csv(data_links[2])\n",
    "\n",
    "# select only Washington state\n",
    "df0 = df0[df0['state'] == 'WA']\n",
    "df1 = df1[df1['state'] == 'Washington']\n",
    "df2 = df2[df2['state'] == 'Washington']\n",
    "\n",
    "# save\n",
    "df0.to_csv(os.path.join(data_dir, file_names[0]), index=False)\n",
    "df1.to_csv(os.path.join(data_dir, file_names[1]), index=False)\n",
    "df2.to_csv(os.path.join(data_dir, file_names[2]), index=False)"
   ]
  },
  {
   "cell_type": "code",
   "execution_count": 4,
   "metadata": {},
   "outputs": [
    {
     "name": "stdout",
     "output_type": "stream",
     "text": [
      "<class 'pandas.core.frame.DataFrame'>\n",
      "Index: 7254 entries, 1 to 23437\n",
      "Data columns (total 10 columns):\n",
      " #   Column                                   Non-Null Count  Dtype  \n",
      "---  ------                                   --------------  -----  \n",
      " 0   date                                     7254 non-null   object \n",
      " 1   county                                   7254 non-null   object \n",
      " 2   state                                    7254 non-null   object \n",
      " 3   vehicle_primary_use                      7254 non-null   object \n",
      " 4   battery_electric_vehicles_bevs_          7254 non-null   int64  \n",
      " 5   plug_in_hybrid_electric_vehicles_phevs_  7254 non-null   int64  \n",
      " 6   electric_vehicle_ev_total                7254 non-null   int64  \n",
      " 7   non_electric_vehicles                    7254 non-null   int64  \n",
      " 8   total_vehicles                           7254 non-null   int64  \n",
      " 9   percent_electric_vehicles                7254 non-null   float64\n",
      "dtypes: float64(1), int64(5), object(4)\n",
      "memory usage: 623.4+ KB\n",
      "None\n"
     ]
    }
   ],
   "source": [
    "print(df0.info())"
   ]
  },
  {
   "cell_type": "code",
   "execution_count": 5,
   "metadata": {},
   "outputs": [
    {
     "name": "stdout",
     "output_type": "stream",
     "text": [
      "<class 'pandas.core.frame.DataFrame'>\n",
      "Index: 60 entries, 564 to 3071\n",
      "Data columns (total 6 columns):\n",
      " #   Column         Non-Null Count  Dtype \n",
      "---  ------         --------------  ----- \n",
      " 0   state          60 non-null     object\n",
      " 1   year           60 non-null     int64 \n",
      " 2   month          60 non-null     object\n",
      " 3   vol_gasoline   60 non-null     int64 \n",
      " 4   data_type      60 non-null     object\n",
      " 5   date_modified  60 non-null     object\n",
      "dtypes: int64(2), object(4)\n",
      "memory usage: 3.3+ KB\n",
      "None\n"
     ]
    }
   ],
   "source": [
    "print(df1.info())"
   ]
  },
  {
   "cell_type": "code",
   "execution_count": 6,
   "metadata": {},
   "outputs": [
    {
     "name": "stdout",
     "output_type": "stream",
     "text": [
      "<class 'pandas.core.frame.DataFrame'>\n",
      "Index: 60 entries, 564 to 3071\n",
      "Data columns (total 6 columns):\n",
      " #   Column         Non-Null Count  Dtype \n",
      "---  ------         --------------  ----- \n",
      " 0   state          60 non-null     object\n",
      " 1   year           60 non-null     int64 \n",
      " 2   month          60 non-null     object\n",
      " 3   vol_spec_fuel  60 non-null     int64 \n",
      " 4   data_type      60 non-null     object\n",
      " 5   date_modified  60 non-null     object\n",
      "dtypes: int64(2), object(4)\n",
      "memory usage: 3.3+ KB\n",
      "None\n"
     ]
    }
   ],
   "source": [
    "print(df2.info())"
   ]
  },
  {
   "cell_type": "code",
   "execution_count": null,
   "metadata": {},
   "outputs": [],
   "source": []
  }
 ],
 "metadata": {
  "kernelspec": {
   "display_name": "ds-env",
   "language": "python",
   "name": "python3"
  },
  "language_info": {
   "codemirror_mode": {
    "name": "ipython",
    "version": 3
   },
   "file_extension": ".py",
   "mimetype": "text/x-python",
   "name": "python",
   "nbconvert_exporter": "python",
   "pygments_lexer": "ipython3",
   "version": "3.11.4"
  }
 },
 "nbformat": 4,
 "nbformat_minor": 2
}
